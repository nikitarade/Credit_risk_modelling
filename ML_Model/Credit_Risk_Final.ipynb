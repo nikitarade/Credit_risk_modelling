{
  "cells": [
    {
      "cell_type": "markdown",
      "metadata": {
        "id": "P6P4bcg2ubzV"
      },
      "source": [
        "#Data Preprocessing\n"
      ]
    },
    {
      "cell_type": "code",
      "execution_count": 1,
      "metadata": {
        "id": "M6-8lIejsLg0"
      },
      "outputs": [],
      "source": [
        "import numpy as np\n",
        "import pandas as pd\n",
        "import matplotlib.pyplot as plt\n",
        "from sklearn.metrics import r2_score\n",
        "from scipy.stats import chi2_contingency\n",
        "from statsmodels.stats.outliers_influence import variance_inflation_factor\n",
        "from sklearn.model_selection import train_test_split\n",
        "from sklearn.ensemble import RandomForestClassifier\n",
        "from sklearn.metrics import accuracy_score, classification_report, precision_recall_fscore_support\n",
        "from sklearn.linear_model import LogisticRegression\n",
        "import warnings\n",
        "import os\n",
        "import joblib"
      ]
    },
    {
      "cell_type": "code",
      "execution_count": null,
      "metadata": {
        "colab": {
          "base_uri": "https://localhost:8080/"
        },
        "id": "M-NG0wy-sUBu",
        "outputId": "e6a1bf1e-2bf4-4d17-9b44-06e0d2690f88"
      },
      "outputs": [
        {
          "name": "stdout",
          "output_type": "stream",
          "text": [
            "Mounted at /content/drive\n"
          ]
        }
      ],
      "source": [
        "from google.colab import drive\n",
        "drive.mount('/content/drive')"
      ]
    },
    {
      "cell_type": "code",
      "execution_count": null,
      "metadata": {
        "id": "YSrTJjrksiV9"
      },
      "outputs": [],
      "source": [
        "a1 = pd.read_csv(\"/content/drive/MyDrive/Credit_risk/case_study1.csv\")\n",
        "a2 = pd.read_csv(\"/content/drive/MyDrive/Credit_risk/case_study2.csv\")"
      ]
    },
    {
      "cell_type": "code",
      "execution_count": null,
      "metadata": {
        "id": "pt0zB-Vussbk"
      },
      "outputs": [],
      "source": [
        "df1 = a1.copy()\n",
        "df2 = a2.copy()"
      ]
    },
    {
      "cell_type": "code",
      "execution_count": 9,
      "metadata": {
        "id": "yCYOr9yUtZtY"
      },
      "outputs": [],
      "source": [
        "df1 = df1.loc[df1['Age_Oldest_TL'] != -99999]\n",
        "columns_to_be_removed = []\n",
        "for i in df2.columns:\n",
        "  if df2.loc[df2[i] == -99999].shape[0] > 10000:\n",
        "    columns_to_be_removed.append(i)"
      ]
    },
    {
      "cell_type": "code",
      "execution_count": 10,
      "metadata": {
        "id": "mb4oxCO8t7t_"
      },
      "outputs": [],
      "source": [
        "df2 = df2.drop(columns_to_be_removed, axis= 1)\n",
        "for i in df2.columns:\n",
        "  df2 = df2.loc[df2[i] != -99999]"
      ]
    },
    {
      "cell_type": "code",
      "execution_count": 11,
      "metadata": {
        "colab": {
          "base_uri": "https://localhost:8080/"
        },
        "id": "v589JHB1uEBP",
        "outputId": "2ee16b39-8071-4058-a1c6-ebd208b14960"
      },
      "outputs": [
        {
          "name": "stdout",
          "output_type": "stream",
          "text": [
            "PROSPECTID\n"
          ]
        }
      ],
      "source": [
        "for i in list(df1.columns):\n",
        "  if i in list(df2.columns):\n",
        "    print(i)"
      ]
    },
    {
      "cell_type": "code",
      "execution_count": 12,
      "metadata": {
        "id": "X78CC6RsuGF0"
      },
      "outputs": [],
      "source": [
        "df = pd.merge(df1, df2, how = 'inner', left_on = ['PROSPECTID'], right_on = ['PROSPECTID'])"
      ]
    },
    {
      "cell_type": "code",
      "execution_count": 13,
      "metadata": {
        "colab": {
          "base_uri": "https://localhost:8080/"
        },
        "id": "vuIGfouEuICo",
        "outputId": "a13f1b83-a04d-4b4d-f292-fde1a453a12a"
      },
      "outputs": [
        {
          "name": "stdout",
          "output_type": "stream",
          "text": [
            "MARITALSTATUS\n",
            "EDUCATION\n",
            "GENDER\n",
            "last_prod_enq2\n",
            "first_prod_enq2\n",
            "Approved_Flag\n"
          ]
        }
      ],
      "source": [
        "for i in df.columns:\n",
        "    if df[i].dtype == 'object':\n",
        "        print(i)"
      ]
    },
    {
      "cell_type": "code",
      "execution_count": 14,
      "metadata": {
        "colab": {
          "base_uri": "https://localhost:8080/"
        },
        "id": "BggRL4zyuLBc",
        "outputId": "35fcce01-6731-4848-e425-f484f059aa73"
      },
      "outputs": [
        {
          "name": "stdout",
          "output_type": "stream",
          "text": [
            "MARITALSTATUS --- 3.578180861038862e-233\n",
            "EDUCATION --- 2.6942265249737532e-30\n",
            "GENDER --- 1.907936100186563e-05\n",
            "last_prod_enq2 --- 0.0\n",
            "first_prod_enq2 --- 7.84997610555419e-287\n"
          ]
        }
      ],
      "source": [
        "for i in ['MARITALSTATUS', 'EDUCATION','GENDER','last_prod_enq2', 'first_prod_enq2']:\n",
        "  chi2, pval, _, _ = chi2_contingency(pd.crosstab(df[i], df['Approved_Flag']))\n",
        "  print(i,'---', pval)"
      ]
    },
    {
      "cell_type": "code",
      "execution_count": 15,
      "metadata": {
        "id": "9v2qTFHfusp_"
      },
      "outputs": [],
      "source": [
        "numeric_columns = []\n",
        "for i in df.columns:\n",
        "  if df[i].dtype != 'object' and i not in ['PROSPECTID','Approved_Flag']:\n",
        "    numeric_columns.append(i)"
      ]
    },
    {
      "cell_type": "code",
      "execution_count": 16,
      "metadata": {
        "id": "SlNmcPVMuvfO"
      },
      "outputs": [],
      "source": [
        "vif_data = df[numeric_columns]\n",
        "total_columns = vif_data.shape[1]\n",
        "columns_to_be_kept = []\n",
        "column_index = 0"
      ]
    },
    {
      "cell_type": "code",
      "execution_count": 17,
      "metadata": {
        "colab": {
          "base_uri": "https://localhost:8080/"
        },
        "id": "YycomxDGuyWm",
        "outputId": "d413cf8d-f0a0-4af8-eee2-f0f12aeb1329"
      },
      "outputs": [
        {
          "name": "stderr",
          "output_type": "stream",
          "text": [
            "/usr/local/lib/python3.10/dist-packages/statsmodels/stats/outliers_influence.py:197: RuntimeWarning: divide by zero encountered in scalar divide\n",
            "  vif = 1. / (1. - r_squared_i)\n"
          ]
        },
        {
          "name": "stdout",
          "output_type": "stream",
          "text": [
            "0 ---- inf\n"
          ]
        },
        {
          "name": "stderr",
          "output_type": "stream",
          "text": [
            "/usr/local/lib/python3.10/dist-packages/statsmodels/stats/outliers_influence.py:197: RuntimeWarning: divide by zero encountered in scalar divide\n",
            "  vif = 1. / (1. - r_squared_i)\n"
          ]
        },
        {
          "name": "stdout",
          "output_type": "stream",
          "text": [
            "0 ---- inf\n",
            "0 ---- 11.320180023967996\n",
            "0 ---- 8.363698035000336\n",
            "0 ---- 6.520647877790928\n",
            "0 ---- 5.149501618212625\n",
            "1 ---- 2.611111040579735\n"
          ]
        },
        {
          "name": "stderr",
          "output_type": "stream",
          "text": [
            "/usr/local/lib/python3.10/dist-packages/statsmodels/stats/outliers_influence.py:197: RuntimeWarning: divide by zero encountered in scalar divide\n",
            "  vif = 1. / (1. - r_squared_i)\n"
          ]
        },
        {
          "name": "stdout",
          "output_type": "stream",
          "text": [
            "2 ---- inf\n",
            "2 ---- 1788.7926256209232\n",
            "2 ---- 8.601028256477228\n",
            "2 ---- 3.832800792153077\n",
            "3 ---- 6.099653381646723\n",
            "3 ---- 5.581352009642766\n",
            "4 ---- 1.985584353098778\n"
          ]
        },
        {
          "name": "stderr",
          "output_type": "stream",
          "text": [
            "/usr/local/lib/python3.10/dist-packages/statsmodels/stats/outliers_influence.py:197: RuntimeWarning: divide by zero encountered in scalar divide\n",
            "  vif = 1. / (1. - r_squared_i)\n"
          ]
        },
        {
          "name": "stdout",
          "output_type": "stream",
          "text": [
            "5 ---- inf\n",
            "5 ---- 4.80953830281934\n",
            "6 ---- 23.270628983464636\n",
            "6 ---- 30.595522588100053\n",
            "6 ---- 4.384346405965583\n",
            "7 ---- 3.0646584155234238\n",
            "8 ---- 2.898639771299251\n",
            "9 ---- 4.377876915347324\n",
            "10 ---- 2.207853583695844\n",
            "11 ---- 4.916914200506864\n",
            "12 ---- 5.214702030064725\n",
            "13 ---- 3.3861625024231476\n",
            "14 ---- 7.840583309478997\n",
            "14 ---- 5.255034641721434\n"
          ]
        },
        {
          "name": "stderr",
          "output_type": "stream",
          "text": [
            "/usr/local/lib/python3.10/dist-packages/statsmodels/stats/outliers_influence.py:197: RuntimeWarning: divide by zero encountered in scalar divide\n",
            "  vif = 1. / (1. - r_squared_i)\n"
          ]
        },
        {
          "name": "stdout",
          "output_type": "stream",
          "text": [
            "15 ---- inf\n",
            "15 ---- 7.380634506427238\n",
            "15 ---- 1.4210050015175733\n",
            "16 ---- 8.083255010190316\n",
            "16 ---- 1.6241227524040114\n",
            "17 ---- 7.257811920140003\n",
            "17 ---- 15.59624383268298\n",
            "17 ---- 1.825857047132431\n",
            "18 ---- 1.5080839450032664\n",
            "19 ---- 2.172088834824578\n",
            "20 ---- 2.6233975535272274\n",
            "21 ---- 2.2959970812106176\n",
            "22 ---- 7.360578319196446\n",
            "22 ---- 2.1602387773102567\n",
            "23 ---- 2.8686288267891467\n",
            "24 ---- 6.458218003637272\n",
            "24 ---- 2.8474118865638247\n",
            "25 ---- 4.753198156284083\n",
            "26 ---- 16.22735475594825\n",
            "26 ---- 6.424377256363877\n",
            "26 ---- 8.887080381808678\n",
            "26 ---- 2.3804746142952653\n",
            "27 ---- 8.60951347651454\n",
            "27 ---- 13.06755093547673\n",
            "27 ---- 3.500040056654653\n",
            "28 ---- 1.9087955874813773\n",
            "29 ---- 17.006562234161628\n",
            "29 ---- 10.730485153719197\n",
            "29 ---- 2.3538497522950275\n",
            "30 ---- 22.10485591513649\n",
            "30 ---- 2.7971639638512924\n",
            "31 ---- 3.424171203217696\n",
            "32 ---- 10.175021454450922\n",
            "32 ---- 6.408710354561292\n",
            "32 ---- 1.001151196262563\n",
            "33 ---- 3.069197305397273\n",
            "34 ---- 2.8091261600643724\n",
            "35 ---- 20.249538381980678\n",
            "35 ---- 15.864576541593774\n",
            "35 ---- 1.833164974053215\n",
            "36 ---- 1.5680839909542046\n",
            "37 ---- 1.9307572353811682\n",
            "38 ---- 4.331265056645244\n",
            "39 ---- 9.390334396150173\n"
          ]
        }
      ],
      "source": [
        "for i in range(0, total_columns):\n",
        "  vif_value = variance_inflation_factor(vif_data, column_index)\n",
        "  print(column_index, '----', vif_value)\n",
        "  if vif_value <= 6:\n",
        "    columns_to_be_kept.append(numeric_columns[i])\n",
        "    column_index = column_index+1\n",
        "  else:\n",
        "    vif_data = vif_data.drop([numeric_columns[i]], axis = 1)"
      ]
    },
    {
      "cell_type": "code",
      "execution_count": 19,
      "metadata": {
        "id": "HCK5inzSu0ll"
      },
      "outputs": [],
      "source": [
        "from scipy.stats import f_oneway\n",
        "\n",
        "columns_to_be_kept_numerical = []\n",
        "\n",
        "for i in columns_to_be_kept:\n",
        "  a = list(df[i])\n",
        "  b = list(df['Approved_Flag'])\n",
        "\n",
        "  group_P1 = [value for value, group in zip(a, b) if group == 'P1']\n",
        "  group_P2 = [value for value, group in zip(a, b) if group == 'P2']\n",
        "  group_P3 = [value for value, group in zip(a, b) if group == 'P3']\n",
        "  group_P4 = [value for value, group in zip(a, b) if group == 'P4']\n",
        "\n",
        "  f_statistic, p_value = f_oneway(group_P1, group_P2, group_P3, group_P4)\n",
        "\n",
        "  if p_value <= 0.05:\n",
        "    columns_to_be_kept_numerical.append(i)"
      ]
    },
    {
      "cell_type": "code",
      "execution_count": 20,
      "metadata": {
        "id": "wb38y_sbu5ww"
      },
      "outputs": [],
      "source": [
        "features = columns_to_be_kept_numerical + ['MARITALSTATUS', 'EDUCATION', 'GENDER', 'last_prod_enq2', 'first_prod_enq2' ]\n",
        "df = df[features + ['Approved_Flag']]"
      ]
    },
    {
      "cell_type": "code",
      "execution_count": 22,
      "metadata": {
        "colab": {
          "base_uri": "https://localhost:8080/"
        },
        "id": "R-K9PwRvvOXA",
        "outputId": "7f128338-ae92-49cc-b915-83c8c9c7d7e1"
      },
      "outputs": [
        {
          "data": {
            "text/plain": [
              "array(['12TH', 'GRADUATE', 'SSC', 'POST-GRADUATE', 'UNDER GRADUATE',\n",
              "       'OTHERS', 'PROFESSIONAL'], dtype=object)"
            ]
          },
          "execution_count": 22,
          "metadata": {},
          "output_type": "execute_result"
        }
      ],
      "source": [
        "df['EDUCATION'].unique()"
      ]
    },
    {
      "cell_type": "code",
      "execution_count": 21,
      "metadata": {
        "colab": {
          "base_uri": "https://localhost:8080/"
        },
        "id": "cehm3ULiu9oI",
        "outputId": "dd984189-1909-4d23-9d52-ed2c0f0239e8"
      },
      "outputs": [
        {
          "data": {
            "text/plain": [
              "array(['Married', 'Single'], dtype=object)"
            ]
          },
          "execution_count": 21,
          "metadata": {},
          "output_type": "execute_result"
        }
      ],
      "source": [
        "df['MARITALSTATUS'].unique()"
      ]
    },
    {
      "cell_type": "code",
      "execution_count": 23,
      "metadata": {
        "colab": {
          "base_uri": "https://localhost:8080/"
        },
        "id": "sFpaceNYvS9p",
        "outputId": "93c6cffc-703c-4857-fc9c-6c203dfca515"
      },
      "outputs": [
        {
          "data": {
            "text/plain": [
              "array(['M', 'F'], dtype=object)"
            ]
          },
          "execution_count": 23,
          "metadata": {},
          "output_type": "execute_result"
        }
      ],
      "source": [
        "df['GENDER'].unique()"
      ]
    },
    {
      "cell_type": "code",
      "execution_count": 24,
      "metadata": {
        "colab": {
          "base_uri": "https://localhost:8080/"
        },
        "id": "d7uonLx2v8Re",
        "outputId": "83a82ac4-87dc-4b64-dc86-dac89635ce4a"
      },
      "outputs": [
        {
          "data": {
            "text/plain": [
              "array(['PL', 'ConsumerLoan', 'AL', 'CC', 'others', 'HL'], dtype=object)"
            ]
          },
          "execution_count": 24,
          "metadata": {},
          "output_type": "execute_result"
        }
      ],
      "source": [
        "df['last_prod_enq2'].unique()"
      ]
    },
    {
      "cell_type": "code",
      "execution_count": 25,
      "metadata": {
        "colab": {
          "base_uri": "https://localhost:8080/"
        },
        "id": "_-1-yn6pwB5K",
        "outputId": "795bf1ee-c6ad-4060-c0cb-6c7f2b8a8349"
      },
      "outputs": [
        {
          "data": {
            "text/plain": [
              "array(['PL', 'ConsumerLoan', 'others', 'AL', 'HL', 'CC'], dtype=object)"
            ]
          },
          "execution_count": 25,
          "metadata": {},
          "output_type": "execute_result"
        }
      ],
      "source": [
        "df['first_prod_enq2'].unique()"
      ]
    },
    {
      "cell_type": "code",
      "execution_count": 26,
      "metadata": {
        "colab": {
          "base_uri": "https://localhost:8080/"
        },
        "id": "RyNvR_tXwGEl",
        "outputId": "f352ae64-7e6b-4f47-f7cb-526e944e6f9a"
      },
      "outputs": [
        {
          "name": "stdout",
          "output_type": "stream",
          "text": [
            "<class 'pandas.core.frame.DataFrame'>\n",
            "RangeIndex: 42064 entries, 0 to 42063\n",
            "Data columns (total 43 columns):\n",
            " #   Column                     Non-Null Count  Dtype  \n",
            "---  ------                     --------------  -----  \n",
            " 0   pct_tl_open_L6M            42064 non-null  float64\n",
            " 1   pct_tl_closed_L6M          42064 non-null  float64\n",
            " 2   Tot_TL_closed_L12M         42064 non-null  int64  \n",
            " 3   pct_tl_closed_L12M         42064 non-null  float64\n",
            " 4   Tot_Missed_Pmnt            42064 non-null  int64  \n",
            " 5   CC_TL                      42064 non-null  int64  \n",
            " 6   Home_TL                    42064 non-null  int64  \n",
            " 7   PL_TL                      42064 non-null  int64  \n",
            " 8   Secured_TL                 42064 non-null  int64  \n",
            " 9   Unsecured_TL               42064 non-null  int64  \n",
            " 10  Other_TL                   42064 non-null  int64  \n",
            " 11  Age_Oldest_TL              42064 non-null  int64  \n",
            " 12  Age_Newest_TL              42064 non-null  int64  \n",
            " 13  time_since_recent_payment  42064 non-null  int64  \n",
            " 14  max_recent_level_of_deliq  42064 non-null  int64  \n",
            " 15  num_deliq_6_12mts          42064 non-null  int64  \n",
            " 16  num_times_60p_dpd          42064 non-null  int64  \n",
            " 17  num_std_12mts              42064 non-null  int64  \n",
            " 18  num_sub                    42064 non-null  int64  \n",
            " 19  num_sub_6mts               42064 non-null  int64  \n",
            " 20  num_sub_12mts              42064 non-null  int64  \n",
            " 21  num_dbt                    42064 non-null  int64  \n",
            " 22  num_dbt_12mts              42064 non-null  int64  \n",
            " 23  num_lss                    42064 non-null  int64  \n",
            " 24  recent_level_of_deliq      42064 non-null  int64  \n",
            " 25  CC_enq_L12m                42064 non-null  int64  \n",
            " 26  PL_enq_L12m                42064 non-null  int64  \n",
            " 27  time_since_recent_enq      42064 non-null  int64  \n",
            " 28  enq_L3m                    42064 non-null  int64  \n",
            " 29  NETMONTHLYINCOME           42064 non-null  int64  \n",
            " 30  Time_With_Curr_Empr        42064 non-null  int64  \n",
            " 31  CC_Flag                    42064 non-null  int64  \n",
            " 32  PL_Flag                    42064 non-null  int64  \n",
            " 33  pct_PL_enq_L6m_of_ever     42064 non-null  float64\n",
            " 34  pct_CC_enq_L6m_of_ever     42064 non-null  float64\n",
            " 35  HL_Flag                    42064 non-null  int64  \n",
            " 36  GL_Flag                    42064 non-null  int64  \n",
            " 37  MARITALSTATUS              42064 non-null  object \n",
            " 38  EDUCATION                  42064 non-null  int64  \n",
            " 39  GENDER                     42064 non-null  object \n",
            " 40  last_prod_enq2             42064 non-null  object \n",
            " 41  first_prod_enq2            42064 non-null  object \n",
            " 42  Approved_Flag              42064 non-null  object \n",
            "dtypes: float64(5), int64(33), object(5)\n",
            "memory usage: 13.8+ MB\n"
          ]
        }
      ],
      "source": [
        "df.loc[df['EDUCATION'] == 'SSC',['EDUCATION']]              = 1\n",
        "df.loc[df['EDUCATION'] == '12TH',['EDUCATION']]             = 2\n",
        "df.loc[df['EDUCATION'] == 'GRADUATE',['EDUCATION']]         = 3\n",
        "df.loc[df['EDUCATION'] == 'UNDER GRADUATE',['EDUCATION']]   = 3\n",
        "df.loc[df['EDUCATION'] == 'POST-GRADUATE',['EDUCATION']]    = 4\n",
        "df.loc[df['EDUCATION'] == 'OTHERS',['EDUCATION']]           = 1\n",
        "df.loc[df['EDUCATION'] == 'PROFESSIONAL',['EDUCATION']]     = 3\n",
        "df['EDUCATION'].value_counts()\n",
        "df['EDUCATION'] = df['EDUCATION'].astype(int)\n",
        "df.info()"
      ]
    },
    {
      "cell_type": "code",
      "execution_count": 27,
      "metadata": {
        "colab": {
          "base_uri": "https://localhost:8080/"
        },
        "id": "2yTnUMqHwMhY",
        "outputId": "8364f872-b4c8-4435-9ed1-a2cdb86011e2"
      },
      "outputs": [
        {
          "name": "stdout",
          "output_type": "stream",
          "text": [
            "<class 'pandas.core.frame.DataFrame'>\n",
            "RangeIndex: 42064 entries, 0 to 42063\n",
            "Data columns (total 55 columns):\n",
            " #   Column                        Non-Null Count  Dtype  \n",
            "---  ------                        --------------  -----  \n",
            " 0   pct_tl_open_L6M               42064 non-null  float64\n",
            " 1   pct_tl_closed_L6M             42064 non-null  float64\n",
            " 2   Tot_TL_closed_L12M            42064 non-null  int64  \n",
            " 3   pct_tl_closed_L12M            42064 non-null  float64\n",
            " 4   Tot_Missed_Pmnt               42064 non-null  int64  \n",
            " 5   CC_TL                         42064 non-null  int64  \n",
            " 6   Home_TL                       42064 non-null  int64  \n",
            " 7   PL_TL                         42064 non-null  int64  \n",
            " 8   Secured_TL                    42064 non-null  int64  \n",
            " 9   Unsecured_TL                  42064 non-null  int64  \n",
            " 10  Other_TL                      42064 non-null  int64  \n",
            " 11  Age_Oldest_TL                 42064 non-null  int64  \n",
            " 12  Age_Newest_TL                 42064 non-null  int64  \n",
            " 13  time_since_recent_payment     42064 non-null  int64  \n",
            " 14  max_recent_level_of_deliq     42064 non-null  int64  \n",
            " 15  num_deliq_6_12mts             42064 non-null  int64  \n",
            " 16  num_times_60p_dpd             42064 non-null  int64  \n",
            " 17  num_std_12mts                 42064 non-null  int64  \n",
            " 18  num_sub                       42064 non-null  int64  \n",
            " 19  num_sub_6mts                  42064 non-null  int64  \n",
            " 20  num_sub_12mts                 42064 non-null  int64  \n",
            " 21  num_dbt                       42064 non-null  int64  \n",
            " 22  num_dbt_12mts                 42064 non-null  int64  \n",
            " 23  num_lss                       42064 non-null  int64  \n",
            " 24  recent_level_of_deliq         42064 non-null  int64  \n",
            " 25  CC_enq_L12m                   42064 non-null  int64  \n",
            " 26  PL_enq_L12m                   42064 non-null  int64  \n",
            " 27  time_since_recent_enq         42064 non-null  int64  \n",
            " 28  enq_L3m                       42064 non-null  int64  \n",
            " 29  NETMONTHLYINCOME              42064 non-null  int64  \n",
            " 30  Time_With_Curr_Empr           42064 non-null  int64  \n",
            " 31  CC_Flag                       42064 non-null  int64  \n",
            " 32  PL_Flag                       42064 non-null  int64  \n",
            " 33  pct_PL_enq_L6m_of_ever        42064 non-null  float64\n",
            " 34  pct_CC_enq_L6m_of_ever        42064 non-null  float64\n",
            " 35  HL_Flag                       42064 non-null  int64  \n",
            " 36  GL_Flag                       42064 non-null  int64  \n",
            " 37  EDUCATION                     42064 non-null  int64  \n",
            " 38  Approved_Flag                 42064 non-null  object \n",
            " 39  MARITALSTATUS_Married         42064 non-null  bool   \n",
            " 40  MARITALSTATUS_Single          42064 non-null  bool   \n",
            " 41  GENDER_F                      42064 non-null  bool   \n",
            " 42  GENDER_M                      42064 non-null  bool   \n",
            " 43  last_prod_enq2_AL             42064 non-null  bool   \n",
            " 44  last_prod_enq2_CC             42064 non-null  bool   \n",
            " 45  last_prod_enq2_ConsumerLoan   42064 non-null  bool   \n",
            " 46  last_prod_enq2_HL             42064 non-null  bool   \n",
            " 47  last_prod_enq2_PL             42064 non-null  bool   \n",
            " 48  last_prod_enq2_others         42064 non-null  bool   \n",
            " 49  first_prod_enq2_AL            42064 non-null  bool   \n",
            " 50  first_prod_enq2_CC            42064 non-null  bool   \n",
            " 51  first_prod_enq2_ConsumerLoan  42064 non-null  bool   \n",
            " 52  first_prod_enq2_HL            42064 non-null  bool   \n",
            " 53  first_prod_enq2_PL            42064 non-null  bool   \n",
            " 54  first_prod_enq2_others        42064 non-null  bool   \n",
            "dtypes: bool(16), float64(5), int64(33), object(1)\n",
            "memory usage: 13.2+ MB\n"
          ]
        }
      ],
      "source": [
        "df_encoded = pd.get_dummies(df, columns=['MARITALSTATUS','GENDER', 'last_prod_enq2' ,'first_prod_enq2'])\n",
        "df_encoded.info()\n",
        "k = df_encoded.describe()"
      ]
    },
    {
      "cell_type": "markdown",
      "metadata": {
        "id": "6kEEyivZujUL"
      },
      "source": [
        "#Model Training\n"
      ]
    },
    {
      "cell_type": "code",
      "execution_count": 28,
      "metadata": {
        "colab": {
          "base_uri": "https://localhost:8080/"
        },
        "id": "WIipAuciwV6y",
        "outputId": "42a3c24a-41dd-4824-91f6-6dea717edc8c"
      },
      "outputs": [
        {
          "name": "stdout",
          "output_type": "stream",
          "text": [
            "\n",
            "Accuracy: 0.78\n",
            "\n",
            "Class p1:\n",
            "Precision: 0.823906083244397\n",
            "Recall: 0.7613412228796844\n",
            "F1 Score: 0.7913890312660173\n",
            "\n",
            "Class p2:\n",
            "Precision: 0.8255418233924413\n",
            "Recall: 0.913577799801784\n",
            "F1 Score: 0.8673315769665036\n",
            "\n",
            "Class p3:\n",
            "Precision: 0.4756380510440835\n",
            "Recall: 0.30943396226415093\n",
            "F1 Score: 0.3749428440786465\n",
            "\n",
            "Class p4:\n",
            "Precision: 0.7342386032977691\n",
            "Recall: 0.7356656948493683\n",
            "F1 Score: 0.7349514563106796\n",
            "\n"
          ]
        }
      ],
      "source": [
        "# XGBoost\n",
        "import xgboost as xgb\n",
        "from sklearn.preprocessing import LabelEncoder\n",
        "\n",
        "xgb_classifier = xgb.XGBClassifier(objective='multi:softmax',  num_class=4)\n",
        "y = df_encoded['Approved_Flag']\n",
        "x = df_encoded. drop ( ['Approved_Flag'], axis = 1 )\n",
        "\n",
        "\n",
        "label_encoder = LabelEncoder()\n",
        "y_encoded = label_encoder.fit_transform(y)\n",
        "\n",
        "\n",
        "x_train, x_test, y_train, y_test = train_test_split(x, y_encoded, test_size=0.2, random_state=42)\n",
        "\n",
        "xgb_classifier.fit(x_train, y_train)\n",
        "y_pred = xgb_classifier.predict(x_test)\n",
        "\n",
        "accuracy = accuracy_score(y_test, y_pred)\n",
        "print ()\n",
        "print(f'Accuracy: {accuracy:.2f}')\n",
        "print ()\n",
        "\n",
        "precision, recall, f1_score, _ = precision_recall_fscore_support(y_test, y_pred)\n",
        "\n",
        "for i, v in enumerate(['p1', 'p2', 'p3', 'p4']):\n",
        "    print(f\"Class {v}:\")\n",
        "    print(f\"Precision: {precision[i]}\")\n",
        "    print(f\"Recall: {recall[i]}\")\n",
        "    print(f\"F1 Score: {f1_score[i]}\")\n",
        "    print()"
      ]
    },
    {
      "cell_type": "code",
      "execution_count": 29,
      "metadata": {
        "colab": {
          "base_uri": "https://localhost:8080/"
        },
        "id": "GyCjRcbgwoLG",
        "outputId": "79c14cf7-d9a9-4b7c-8377-e2370f58a8b9"
      },
      "outputs": [
        {
          "name": "stdout",
          "output_type": "stream",
          "text": [
            "\n",
            "Accuracy: 0.62\n",
            "\n",
            "Class p1:\n",
            "Precision: 0.5552665799739922\n",
            "Recall: 0.42110453648915186\n",
            "F1 Score: 0.4789680314077397\n",
            "\n",
            "Class p2:\n",
            "Precision: 0.6267942583732058\n",
            "Recall: 0.934786917740337\n",
            "F1 Score: 0.7504176943273132\n",
            "\n",
            "Class p3:\n",
            "Precision: 0.0\n",
            "Recall: 0.0\n",
            "F1 Score: 0.0\n",
            "\n",
            "Class p4:\n",
            "Precision: 0.39473684210526316\n",
            "Recall: 0.043731778425655975\n",
            "F1 Score: 0.07874015748031497\n",
            "\n"
          ]
        },
        {
          "name": "stderr",
          "output_type": "stream",
          "text": [
            "/usr/local/lib/python3.10/dist-packages/sklearn/linear_model/_logistic.py:458: ConvergenceWarning: lbfgs failed to converge (status=1):\n",
            "STOP: TOTAL NO. of ITERATIONS REACHED LIMIT.\n",
            "\n",
            "Increase the number of iterations (max_iter) or scale the data as shown in:\n",
            "    https://scikit-learn.org/stable/modules/preprocessing.html\n",
            "Please also refer to the documentation for alternative solver options:\n",
            "    https://scikit-learn.org/stable/modules/linear_model.html#logistic-regression\n",
            "  n_iter_i = _check_optimize_result(\n"
          ]
        }
      ],
      "source": [
        "# Logistic Regression\n",
        "from sklearn.linear_model import LogisticRegression\n",
        "model = LogisticRegression(max_iter=200)\n",
        "model.fit(x_train, y_train)\n",
        "y_pred = model.predict(x_test)\n",
        "accuracy = accuracy_score(y_test, y_pred)\n",
        "print ()\n",
        "print(f\"Accuracy: {accuracy:.2f}\")\n",
        "print ()\n",
        "\n",
        "precision, recall, f1_score, _ = precision_recall_fscore_support(y_test, y_pred)\n",
        "\n",
        "for i, v in enumerate(['p1', 'p2', 'p3', 'p4']):\n",
        "    print(f\"Class {v}:\")\n",
        "    print(f\"Precision: {precision[i]}\")\n",
        "    print(f\"Recall: {recall[i]}\")\n",
        "    print(f\"F1 Score: {f1_score[i]}\")\n",
        "    print()"
      ]
    },
    {
      "cell_type": "code",
      "execution_count": 30,
      "metadata": {
        "id": "jX-ezK4aw5q_"
      },
      "outputs": [],
      "source": [
        "from sklearn.preprocessing  import StandardScaler\n",
        "columns_to_be_scaled = ['Age_Oldest_TL', 'time_since_recent_payment', 'max_recent_level_of_deliq', 'recent_level_of_deliq', 'time_since_recent_enq', 'NETMONTHLYINCOME', 'Time_With_Curr_Empr']\n",
        "\n",
        "for i in columns_to_be_scaled:\n",
        "  column_data = df_encoded[i].values.reshape(-1,1)\n",
        "  scaler = StandardScaler()\n",
        "  scaled_column = scaler.fit_transform(column_data)\n",
        "  df_encoded[i] = scaled_column"
      ]
    },
    {
      "cell_type": "code",
      "execution_count": 31,
      "metadata": {
        "colab": {
          "base_uri": "https://localhost:8080/"
        },
        "id": "VksR8Iv9xGIx",
        "outputId": "caee6c95-402c-4319-cb8a-e3b94b87c8e3"
      },
      "outputs": [
        {
          "name": "stdout",
          "output_type": "stream",
          "text": [
            "              precision    recall  f1-score   support\n",
            "\n",
            "           0       0.82      0.66      0.73      1014\n",
            "           1       0.73      0.96      0.83      5045\n",
            "           2       0.40      0.01      0.02      1325\n",
            "           3       0.69      0.65      0.67      1029\n",
            "\n",
            "    accuracy                           0.74      8413\n",
            "   macro avg       0.66      0.57      0.56      8413\n",
            "weighted avg       0.69      0.74      0.67      8413\n",
            "\n",
            "\n",
            "Accuracy: 0.75\n",
            "\n",
            "Class p1:\n",
            "Precision: 0.8231850117096019\n",
            "Recall: 0.6932938856015779\n",
            "F1 Score: 0.7526766595289079\n",
            "\n",
            "Class p2:\n",
            "Precision: 0.7647153684889534\n",
            "Recall: 0.9399405351833499\n",
            "F1 Score: 0.843322070069358\n",
            "\n",
            "Class p3:\n",
            "Precision: 0.40063091482649843\n",
            "Recall: 0.09584905660377359\n",
            "F1 Score: 0.1546894031668697\n",
            "\n",
            "Class p4:\n",
            "Precision: 0.6791546589817483\n",
            "Recall: 0.6870748299319728\n",
            "F1 Score: 0.6830917874396134\n",
            "\n"
          ]
        },
        {
          "name": "stderr",
          "output_type": "stream",
          "text": [
            "/usr/local/lib/python3.10/dist-packages/sklearn/linear_model/_logistic.py:458: ConvergenceWarning: lbfgs failed to converge (status=1):\n",
            "STOP: TOTAL NO. of ITERATIONS REACHED LIMIT.\n",
            "\n",
            "Increase the number of iterations (max_iter) or scale the data as shown in:\n",
            "    https://scikit-learn.org/stable/modules/preprocessing.html\n",
            "Please also refer to the documentation for alternative solver options:\n",
            "    https://scikit-learn.org/stable/modules/linear_model.html#logistic-regression\n",
            "  n_iter_i = _check_optimize_result(\n"
          ]
        }
      ],
      "source": [
        "from sklearn.model_selection import GridSearchCV\n",
        "\n",
        "model = LogisticRegression(max_iter=200)\n",
        "y = df_encoded['Approved_Flag']\n",
        "x = df_encoded.drop(['Approved_Flag'], axis = 1)\n",
        "label_encoder = LabelEncoder()\n",
        "y_encoded =  label_encoder.fit_transform(y)\n",
        "x_train, x_test, y_train, y_test = train_test_split(x, y_encoded, test_size = 0.2, random_state = 42)\n",
        "param_grid = {\n",
        "    'C': [0.1, 1, 10, 100],  # Inverse of regularization strength\n",
        "    'penalty': ['l1', 'l2'],  # Regularization type\n",
        "    'solver': ['liblinear']   # Solver choice (liblinear supports l1 and l2 penalties)\n",
        "}\n",
        "grid_search = GridSearchCV(model, param_grid, cv=5, scoring='accuracy')\n",
        "grid_search.fit(x_train, y_train)\n",
        "y_pred = grid_search.predict(x_test)\n",
        "print(classification_report(y_test, y_pred))\n",
        "\n",
        "\n",
        "model.fit(x_train, y_train)\n",
        "y_pred = model.predict(x_test)\n",
        "accuracy = accuracy_score(y_test, y_pred)\n",
        "print ()\n",
        "print(f\"Accuracy: {accuracy:.2f}\")\n",
        "print ()\n",
        "\n",
        "precision, recall, f1_score, _ = precision_recall_fscore_support(y_test, y_pred)\n",
        "\n",
        "for i, v in enumerate(['p1', 'p2', 'p3', 'p4']):\n",
        "    print(f\"Class {v}:\")\n",
        "    print(f\"Precision: {precision[i]}\")\n",
        "    print(f\"Recall: {recall[i]}\")\n",
        "    print(f\"F1 Score: {f1_score[i]}\")\n",
        "    print()"
      ]
    }
  ],
  "metadata": {
    "colab": {
      "provenance": []
    },
    "kernelspec": {
      "display_name": "base",
      "language": "python",
      "name": "python3"
    },
    "language_info": {
      "codemirror_mode": {
        "name": "ipython",
        "version": 3
      },
      "file_extension": ".py",
      "mimetype": "text/x-python",
      "name": "python",
      "nbconvert_exporter": "python",
      "pygments_lexer": "ipython3",
      "version": "3.11.4"
    }
  },
  "nbformat": 4,
  "nbformat_minor": 0
}
